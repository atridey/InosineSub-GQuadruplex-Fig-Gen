{
  "nbformat": 4,
  "nbformat_minor": 0,
  "metadata": {
    "colab": {
      "provenance": []
    },
    "kernelspec": {
      "name": "python3",
      "display_name": "Python 3"
    },
    "language_info": {
      "name": "python"
    }
  },
  "cells": [
    {
      "cell_type": "code",
      "source": [
        "FILENAME = 'CHANGE'\n",
        "TITLE = 'LIGAND, CATION'"
      ],
      "metadata": {
        "id": "uYwHEfTnmzCX"
      },
      "execution_count": null,
      "outputs": []
    },
    {
      "cell_type": "code",
      "source": [
        "import matplotlib\n",
        "import matplotlib.pyplot as plt\n",
        "%matplotlib inline\n",
        "import numpy as np"
      ],
      "metadata": {
        "id": "7-zo60Hgaswo"
      },
      "execution_count": null,
      "outputs": []
    },
    {
      "cell_type": "code",
      "source": [
        "read = np.loadtxt(FILENAME + '.csv', delimiter=\",\", dtype='str')\n",
        "v_labels = read[:,0][1:]\n",
        "h_labels = read[0][1:]\n",
        "data = read[1:,1:].astype('float64')"
      ],
      "metadata": {
        "colab": {
          "base_uri": "https://localhost:8080/"
        },
        "id": "0Zvt46Rrdvf0",
        "outputId": "96a5e4f2-abda-4896-b8c6-f59bee1de42a"
      },
      "execution_count": null,
      "outputs": [
        {
          "output_type": "stream",
          "name": "stdout",
          "text": [
            "[[ 2.          1.5         1.          0.5         0.1234      0.1234\n",
            "   0.1234      0.1234    ]\n",
            " [ 2.          1.667       1.333       1.          0.667       0.333\n",
            "   0.1234      0.1234    ]\n",
            " [ 2.          0.1234      0.1234      0.1234      0.1234      0.1234\n",
            "   0.1234      0.1234    ]\n",
            " [-2.         -2.         -1.71428571 -1.42857143 -1.14285714 -0.85714286\n",
            "  -0.57142857 -0.28571429]\n",
            " [-2.         -2.         -1.6        -1.2        -0.8        -0.4\n",
            "   0.1234      0.1234    ]\n",
            " [-2.         -1.6        -1.2        -0.8        -0.4         0.1234\n",
            "   0.1234      0.1234    ]\n",
            " [ 0.          0.          0.          0.          0.          0.\n",
            "   0.          0.        ]\n",
            " [ 0.          0.          0.          0.          0.          0.\n",
            "   0.          0.        ]]\n"
          ]
        }
      ]
    },
    {
      "cell_type": "code",
      "source": [
        "#Modifying RdBu by setting 0.1234 equal to gray, 0.1010 to purple --> colormap \"custom\"\n",
        "cmap_array = matplotlib.cm.get_cmap('RdBu', 256)((np.linspace(0, 1, 256)))\n",
        "cmap_indexer = lambda i: int( (i/6 + 0.5) * 256 )\n",
        "cmap_array[cmap_indexer(0.1234)] = [0.3, 0.3, 0.3, 0.75]\n",
        "cmap_array[cmap_indexer(0.1111)] = [0.5, 0.3, 0.8, 0.75]\n",
        "\n",
        "if FILENAME == 'rhps4_k+':\n",
        "  cmap_array[cmap_indexer(0.2222)] = [0.5, 0.3, 0.8, 0.83]\n",
        "  cmap_array[cmap_indexer(0.3333)] = [0.5, 0.3, 0.8, 0.92]\n",
        "  cmap_array[cmap_indexer(0.4444)] = [0.5, 0.3, 0.8, 1]\n",
        "\n",
        "elif FILENAME == 'tmpyp4_k+': #For TmPyP4 K+:\n",
        "  cmap_array[cmap_indexer(0.2222)] = [0.5, 0.3, 0.8, 1]\n",
        "  cmap_array[cmap_indexer(0.8888)] = [0.5, 0.3, 0.8, 0.92]\n",
        "  cmap_array[cmap_indexer(0.7777)] = [0.5, 0.3, 0.8, 0.86]\n",
        "  cmap_array[cmap_indexer(0.6666)] = [0.5, 0.3, 0.8, 0.71]\n",
        "  cmap_array[cmap_indexer(0.5555)] = [0.5, 0.3, 0.8, 0.57]\n",
        "  cmap_array[cmap_indexer(0.4444)] = [0.5, 0.3, 0.8, 0.43]\n",
        "  cmap_array[cmap_indexer(0.3333)] = [0.5, 0.3, 0.8, 0.29]\n",
        "  cmap_array[cmap_indexer(0.2211)] = [0.5, 0.3, 0.8, 0.14]\n",
        "\n",
        "\n",
        "\n",
        "custom = matplotlib.colors.ListedColormap(cmap_array, name = 'custom')"
      ],
      "metadata": {
        "id": "ewVaGHZNkoj_",
        "colab": {
          "base_uri": "https://localhost:8080/"
        },
        "outputId": "0fd708e0-1d60-46ab-a4e0-58a39362ce66"
      },
      "execution_count": null,
      "outputs": [
        {
          "output_type": "stream",
          "name": "stderr",
          "text": [
            "<ipython-input-24-235b9addd0c0>:2: MatplotlibDeprecationWarning: The get_cmap function was deprecated in Matplotlib 3.7 and will be removed two minor releases later. Use ``matplotlib.colormaps[name]`` or ``matplotlib.colormaps.get_cmap(obj)`` instead.\n",
            "  cmap_array = matplotlib.cm.get_cmap('RdBu', 256)((np.linspace(0, 1, 256)))\n"
          ]
        }
      ]
    },
    {
      "cell_type": "code",
      "source": [
        "#Adapted from https://matplotlib.org/stable/gallery/images_contours_and_fields/image_annotated_heatmap.html\n",
        "\n",
        "fig, ax = plt.subplots()\n",
        "im = ax.imshow(data, cmap = custom, vmin = -3, vmax = 3)\n",
        "\n",
        "ax.set_xticks(np.arange(h_labels.size), labels = h_labels)\n",
        "ax.set_yticks(np.arange(v_labels.size), labels = v_labels)\n",
        "\n",
        "for i in range(v_labels.size):\n",
        "    alreadyAB = False\n",
        "    currentTrend = ''\n",
        "    for j in range(h_labels.size):\n",
        "        aColor = 'w'\n",
        "        aSize = 'large'\n",
        "        point = data[i, j]\n",
        "        if j == 0:\n",
        "          if point == 2:\n",
        "            text = 'A//'\n",
        "          elif point == -2:\n",
        "            text = '//'\n",
        "          elif point == 0.101:\n",
        "            text = 'Hybrid'\n",
        "            aSize = 'small'\n",
        "          elif point == 0:\n",
        "            text = 'N/A'\n",
        "            aColor = 'black'\n",
        "        elif point == 0.1234:\n",
        "          if alreadyAB:\n",
        "            text = ''\n",
        "          else:\n",
        "            text = 'AB'\n",
        "            alreadyAB = True\n",
        "        elif abs(point) > abs(data[i, j-1]):\n",
        "          if currentTrend == '↑':\n",
        "            text = ''\n",
        "          else:\n",
        "            text = currentTrend = '↑'\n",
        "        elif abs(point) < abs(data[i, j-1]):\n",
        "          if currentTrend == '↓':\n",
        "            text = ''\n",
        "          else:\n",
        "            text = currentTrend = '↓'\n",
        "        else:\n",
        "          text = ''\n",
        "          if point != 2 and point != data[i, j-1]:\n",
        "            print('unforseen case' + str(point))\n",
        "        ax.text(j, i, text, ha=\"center\", va=\"center\", color=aColor, fontweight = 'medium', fontsize = aSize)\n",
        "\n",
        "ax.set_title(TITLE)\n",
        "ax.set_xlabel('Ligand Concentration (μM)')\n",
        "\n",
        "plt.savefig(FILENAME + '.png', dpi = 250)"
      ],
      "metadata": {
        "colab": {
          "base_uri": "https://localhost:8080/",
          "height": 492
        },
        "id": "hMX8Mj5yg4_R",
        "outputId": "5f6d7579-6156-4ce3-a3b9-26ebbc63780d"
      },
      "execution_count": null,
      "outputs": [
        {
          "output_type": "display_data",
          "data": {
            "text/plain": [
              "<Figure size 640x480 with 1 Axes>"
            ],
            "image/png": "[encoded data removed]"
          },
          "metadata": {}
        }
      ]
    }
  ]
}