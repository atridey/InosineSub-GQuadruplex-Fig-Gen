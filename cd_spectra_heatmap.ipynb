{
  "nbformat": 4,
  "nbformat_minor": 0,
  "metadata": {
    "colab": {
      "provenance": []
    },
    "kernelspec": {
      "name": "python3",
      "display_name": "Python 3"
    },
    "language_info": {
      "name": "python"
    }
  },
  "cells": [
    {
      "cell_type": "code",
      "source": [
        "FILENAME = 'CHANGE'\n",
        "TITLE = 'LIGAND, CATION'"
      ],
      "metadata": {
        "id": "uYwHEfTnmzCX"
      },
      "execution_count": null,
      "outputs": []
    },
    {
      "cell_type": "code",
      "source": [
        "import matplotlib\n",
        "import matplotlib.pyplot as plt\n",
        "%matplotlib inline\n",
        "import numpy as np"
      ],
      "metadata": {
        "id": "7-zo60Hgaswo"
      },
      "execution_count": null,
      "outputs": []
    },
    {
      "cell_type": "code",
      "source": [
        "read = np.loadtxt(FILENAME + '.csv', delimiter=\",\", dtype='str')\n",
        "v_labels = read[:,0][1:]\n",
        "h_labels = read[0][1:]\n",
        "data = read[1:,1:].astype('float64')"
      ],
      "metadata": {
        "id": "0Zvt46Rrdvf0"
      },
      "execution_count": null,
      "outputs": []
    },
    {
      "cell_type": "code",
      "source": [
        "#Modifying RdBu by setting 0.1234 equal to gray, 0.1010 to purple --> colormap \"custom\"\n",
        "cmap_array = matplotlib.cm.get_cmap('RdBu', 256)((np.linspace(0, 1, 256)))\n",
        "cmap_indexer = lambda i: int( (i/6 + 0.5) * 256 )\n",
        "cmap_array[cmap_indexer(0.1234)] = [0.3, 0.3, 0.3, 0.75]\n",
        "cmap_array[cmap_indexer(0.1111)] = [0.5, 0.3, 0.8, 0.75]\n",
        "\n",
        "if FILENAME == 'rhps4_k+':\n",
        "  cmap_array[cmap_indexer(0.2222)] = [0.5, 0.3, 0.8, 0.83]\n",
        "  cmap_array[cmap_indexer(0.3333)] = [0.5, 0.3, 0.8, 0.92]\n",
        "  cmap_array[cmap_indexer(0.4444)] = [0.5, 0.3, 0.8, 1]\n",
        "\n",
        "elif FILENAME == 'tmpyp4_k+': #For TmPyP4 K+:\n",
        "  cmap_array[cmap_indexer(0.2222)] = [0.5, 0.3, 0.8, 1]\n",
        "  cmap_array[cmap_indexer(0.8888)] = [0.5, 0.3, 0.8, 0.92]\n",
        "  cmap_array[cmap_indexer(0.7777)] = [0.5, 0.3, 0.8, 0.86]\n",
        "  cmap_array[cmap_indexer(0.6666)] = [0.5, 0.3, 0.8, 0.71]\n",
        "  cmap_array[cmap_indexer(0.5555)] = [0.5, 0.3, 0.8, 0.57]\n",
        "  cmap_array[cmap_indexer(0.4444)] = [0.5, 0.3, 0.8, 0.43]\n",
        "  cmap_array[cmap_indexer(0.3333)] = [0.5, 0.3, 0.8, 0.29]\n",
        "  cmap_array[cmap_indexer(0.2211)] = [0.5, 0.3, 0.8, 0.14]\n",
        "\n",
        "\n",
        "\n",
        "custom = matplotlib.colors.ListedColormap(cmap_array, name = 'custom')"
      ],
      "metadata": {
        "id": "ewVaGHZNkoj_"
      },
      "execution_count": null,
      "outputs": []
    },
    {
      "cell_type": "code",
      "source": [
        "#Adapted from https://matplotlib.org/stable/gallery/images_contours_and_fields/image_annotated_heatmap.html\n",
        "\n",
        "fig, ax = plt.subplots()\n",
        "im = ax.imshow(data, cmap = custom, vmin = -3, vmax = 3)\n",
        "\n",
        "ax.set_xticks(np.arange(h_labels.size), labels = h_labels)\n",
        "ax.set_yticks(np.arange(v_labels.size), labels = v_labels)\n",
        "\n",
        "for i in range(v_labels.size):\n",
        "    alreadyAB = False\n",
        "    currentTrend = ''\n",
        "    for j in range(h_labels.size):\n",
        "        aColor = 'w'\n",
        "        aSize = 'large'\n",
        "        point = data[i, j]\n",
        "        if j == 0:\n",
        "          if point == 2:\n",
        "            text = 'A//'\n",
        "          elif point == -2:\n",
        "            text = '//'\n",
        "          elif point == 0.101:\n",
        "            text = 'Hybrid'\n",
        "            aSize = 'small'\n",
        "          elif point == 0:\n",
        "            text = 'N/A'\n",
        "            aColor = 'black'\n",
        "        elif point == 0.1234:\n",
        "          if alreadyAB:\n",
        "            text = ''\n",
        "          else:\n",
        "            text = 'AB'\n",
        "            alreadyAB = True\n",
        "        elif abs(point) > abs(data[i, j-1]):\n",
        "          if currentTrend == '↑':\n",
        "            text = ''\n",
        "          else:\n",
        "            text = currentTrend = '↑'\n",
        "        elif abs(point) < abs(data[i, j-1]):\n",
        "          if currentTrend == '↓':\n",
        "            text = ''\n",
        "          else:\n",
        "            text = currentTrend = '↓'\n",
        "        else:\n",
        "          text = ''\n",
        "          if point != 2 and point != data[i, j-1]:\n",
        "            print('unforseen case' + str(point))\n",
        "        ax.text(j, i, text, ha=\"center\", va=\"center\", color=aColor, fontweight = 'medium', fontsize = aSize)\n",
        "\n",
        "ax.set_title(TITLE)\n",
        "ax.set_xlabel('Ligand Concentration (μM)')\n",
        "\n",
        "plt.savefig(FILENAME + '.png', dpi = 250)"
      ],
      "metadata": {
        "id": "hMX8Mj5yg4_R"
      },
      "execution_count": null,
      "outputs": []
    }
  ]
}