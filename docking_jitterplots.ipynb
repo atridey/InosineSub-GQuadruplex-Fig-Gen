{
  "nbformat": 4,
  "nbformat_minor": 0,
  "metadata": {
    "colab": {
      "provenance": []
    },
    "kernelspec": {
      "name": "python3",
      "display_name": "Python 3"
    },
    "language_info": {
      "name": "python"
    }
  },
  "cells": [
    {
      "cell_type": "code",
      "execution_count": 1,
      "metadata": {
        "id": "4G0rBFBAn3V4"
      },
      "outputs": [],
      "source": [
        "import matplotlib\n",
        "import matplotlib.pyplot as plt\n",
        "%matplotlib inline\n",
        "import numpy as np\n",
        "from os import path\n",
        "\n",
        "import seaborn as sns\n",
        "import pandas as pd"
      ]
    },
    {
      "cell_type": "code",
      "source": [
        "LIG = 'CHANGE'\n",
        "CONF = 'CHANGE'\n",
        "STRUCT = 'CHANGE'"
      ],
      "metadata": {
        "colab": {
          "base_uri": "https://localhost:8080/",
          "height": 126
        },
        "id": "ydqNsStmnIhC",
        "outputId": "df9a5ce9-df9d-43a6-900f-ac370b73719b"
      },
      "execution_count": 2,
      "outputs": [
        {
          "output_type": "error",
          "ename": "SyntaxError",
          "evalue": "invalid syntax (<ipython-input-2-4370f4d6f0c3>, line 2)",
          "traceback": [
            "\u001b[0;36m  File \u001b[0;32m\"<ipython-input-2-4370f4d6f0c3>\"\u001b[0;36m, line \u001b[0;32m2\u001b[0m\n\u001b[0;31m    STRUCT 'CHANGE'\u001b[0m\n\u001b[0m           ^\u001b[0m\n\u001b[0;31mSyntaxError\u001b[0m\u001b[0;31m:\u001b[0m invalid syntax\n"
          ]
        }
      ]
    },
    {
      "cell_type": "code",
      "source": [
        "def get_filename(sequence):\n",
        "  return f'dock_{CONF}_{STRUCT}_{sequence}_100_50poses.txt'"
      ],
      "metadata": {
        "id": "wsPvY0W3y0SG"
      },
      "execution_count": null,
      "outputs": []
    },
    {
      "cell_type": "code",
      "source": [
        "BASE_SEQS = ('GGG', 'GGI', 'GGI', 'GIG', 'GII', 'IGG', 'IGI', 'IIG', 'III')\n",
        "seqs = []\n",
        "data = []\n",
        "\n",
        "for sequence in BASE_SEQS:\n",
        "  if path.isfile(get_filename(sequence)):\n",
        "    seqs.append(sequence)\n",
        "    data.append([])\n",
        "\n",
        "data = {}\n",
        "for sequence in BASE_SEQS:\n",
        "  if path.isfile(get_filename(sequence)):\n",
        "    data[sequence] = []"
      ],
      "metadata": {
        "id": "lCU79EpR2Qms"
      },
      "execution_count": null,
      "outputs": []
    },
    {
      "cell_type": "code",
      "source": [
        "for sequence in list(data):\n",
        "  data[sequence] = np.loadtxt(get_filename(sequence), delimiter=\",\", dtype='str').T[0][1:].astype('float64')"
      ],
      "metadata": {
        "id": "EdfIkczxyLcp"
      },
      "execution_count": null,
      "outputs": []
    },
    {
      "cell_type": "code",
      "source": [
        "#Ensuring equal length of each sequence's data list by appending NaNs, necessary for RHPS4\n",
        "\n",
        "for key in data: #Using key instead of .values() for later assignment\n",
        "  if data[key].size < 50:\n",
        "    for i in range(data[key].size, 50):\n",
        "      data[key] = np.append(data[key], np.NaN)"
      ],
      "metadata": {
        "id": "5XJmxPQSWj_c"
      },
      "execution_count": null,
      "outputs": []
    },
    {
      "cell_type": "code",
      "source": [
        "df = pd.DataFrame.from_dict(data)\n",
        "\n",
        "plt.figure(figsize=(10, 6))\n",
        "sns.stripplot(data=df, color='blue', size=8, jitter=True, alpha=0.8)\n",
        "sns.boxplot(data=df, color='coral', width=0.3, fill=False)\n",
        "\n",
        "plt.title(f'{LIG} {STRUCT} {CONF}')\n",
        "plt.xlabel('Sequence')\n",
        "plt.ylabel('Binding Affinity / Docking Score (kcal / mol)')\n",
        "\n",
        "%cd '/content/drive/My Drive/docking_data/output'\n",
        "plt.savefig(f'{LIG}_{STRUCT}_{CONF}.png', dpi = 250)"
      ],
      "metadata": {
        "id": "a19zLLkV68-U"
      },
      "execution_count": null,
      "outputs": []
    }
  ]
}